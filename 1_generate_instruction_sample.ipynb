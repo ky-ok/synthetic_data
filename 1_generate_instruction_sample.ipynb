{
 "cells": [
  {
   "cell_type": "markdown",
   "metadata": {},
   "source": [
    "# 生成例"
   ]
  },
  {
   "cell_type": "code",
   "execution_count": null,
   "metadata": {
    "vscode": {
     "languageId": "plaintext"
    }
   },
   "outputs": [],
   "source": [
    "!pip install rouge\n",
    "!pip install fire"
   ]
  },
  {
   "cell_type": "code",
   "execution_count": null,
   "metadata": {
    "vscode": {
     "languageId": "plaintext"
    }
   },
   "outputs": [],
   "source": [
    "!pip install bitsandbytes"
   ]
  },
  {
   "cell_type": "code",
   "execution_count": null,
   "metadata": {
    "vscode": {
     "languageId": "plaintext"
    }
   },
   "outputs": [],
   "source": [
    "from google.colab import userdata"
   ]
  },
  {
   "cell_type": "code",
   "execution_count": null,
   "metadata": {
    "vscode": {
     "languageId": "plaintext"
    }
   },
   "outputs": [],
   "source": [
    "import os\n",
    "\n",
    "variable_token = userdata.get('HF_TOKEN')"
   ]
  },
  {
   "cell_type": "code",
   "execution_count": null,
   "metadata": {
    "vscode": {
     "languageId": "plaintext"
    }
   },
   "outputs": [],
   "source": [
    "!python -m generate_instructions generate_instruction_following_data \\\n",
    "  --output_dir ./ \\\n",
    "  --seed_tasks_path \"./seed_tasks/Elyza-tasks-100_seed_tasks.jsonl\" \\\n",
    "  --num_instructions_to_generate 200 \\\n",
    "  --model_id=\"Qwen/Qwen2.5-32B-Instruct\" \\\n",
    "  --generate_file_name=\"regen_elyza.json\" \\\n",
    "  --token=\"{variable_token}\" \\\n",
    "  --request_batch_size 1 \\\n",
    "  --top_p 0.8 \\\n",
    "  --temperature 0.8"
   ]
  }
 ],
 "metadata": {
  "language_info": {
   "name": "python"
  }
 },
 "nbformat": 4,
 "nbformat_minor": 2
}
